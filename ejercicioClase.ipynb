{
 "cells": [
  {
   "cell_type": "code",
   "execution_count": 258,
   "metadata": {},
   "outputs": [],
   "source": [
    "import sim\n",
    "import numpy as np"
   ]
  },
  {
   "cell_type": "code",
   "execution_count": 259,
   "metadata": {},
   "outputs": [],
   "source": [
    "def connect(port):\n",
    "    sim.simxFinish(-1)\n",
    "    clientID = sim.simxStart('127.0.0.1',port,True,True,2000,5)\n",
    "    if clientID == 0:\n",
    "        print('conexion exitosa al puerto: {}'.format(port))\n",
    "    else:\n",
    "        print('No se ha podido conectar con coppeliaSim')\n",
    "    return clientID"
   ]
  },
  {
   "cell_type": "code",
   "execution_count": 260,
   "metadata": {},
   "outputs": [
    {
     "name": "stdout",
     "output_type": "stream",
     "text": [
      "conexion exitosa al puerto: 19999\n",
      "El handle asignado al dummy es: 26\n"
     ]
    }
   ],
   "source": [
    "clientID = connect(19999)\n",
    "\n",
    "returnCode,handle = sim.simxGetObjectHandle(clientID,'Dummy',sim.simx_opmode_blocking)\n",
    "dummy = handle\n",
    "print('El handle asignado al dummy es: {}'.format(dummy))"
   ]
  },
  {
   "cell_type": "code",
   "execution_count": 261,
   "metadata": {},
   "outputs": [
    {
     "name": "stdout",
     "output_type": "stream",
     "text": [
      "La posicion asignada al dummy es: [0.5547485947608948, -0.5077173709869385, 0.01200026273727417]\n"
     ]
    }
   ],
   "source": [
    "returnCode,pos = sim.simxGetObjectPosition(clientID,dummy,-1,sim.simx_opmode_blocking)\n",
    "print('La posicion asignada al dummy es: {}'.format(pos))"
   ]
  },
  {
   "cell_type": "code",
   "execution_count": 262,
   "metadata": {},
   "outputs": [
    {
     "name": "stdout",
     "output_type": "stream",
     "text": [
      "El handle asignado al Joint1 es: 21\n",
      "El handle asignado al Joint2 es: 22\n",
      "El handle asignado al Joint3 es: 25\n"
     ]
    }
   ],
   "source": [
    "ret,MTB_joint1 = sim.simxGetObjectHandle(clientID,'MTB_joint1',sim.simx_opmode_blocking)\n",
    "ret,MTB_joint2 = sim.simxGetObjectHandle(clientID,'MTB_joint2',sim.simx_opmode_blocking)\n",
    "ret,MTB_joint3 = sim.simxGetObjectHandle(clientID,'MTB_joint3',sim.simx_opmode_blocking)\n",
    "\n",
    "print('El handle asignado al Joint1 es: {}'.format(MTB_joint1))\n",
    "print('El handle asignado al Joint2 es: {}'.format(MTB_joint2))\n",
    "print('El handle asignado al Joint3 es: {}'.format(MTB_joint3))\n"
   ]
  },
  {
   "cell_type": "code",
   "execution_count": 263,
   "metadata": {},
   "outputs": [
    {
     "name": "stdout",
     "output_type": "stream",
     "text": [
      "La posicion asignada la articulacion1 es: [0.0, 0.0, 0.0]\n",
      "La posicion asignada la articulacion2 es: [0.4510872960090637, -0.12086839228868484, 0.20200029015541077]\n",
      "La posicion asignada la articulacion3 es: [0.5547478795051575, -0.5077177882194519, 0.19200041890144348]\n"
     ]
    }
   ],
   "source": [
    "returnCode,pos1 = sim.simxGetObjectPosition(clientID,MTB_joint1,-1,sim.simx_opmode_blocking)\n",
    "print('La posicion asignada la articulacion1 es: {}'.format(pos1)) #debe estar en 0,0,0\n",
    "\n",
    "returnCode,pos2 = sim.simxGetObjectPosition(clientID,MTB_joint2,-1,sim.simx_opmode_blocking)\n",
    "print('La posicion asignada la articulacion2 es: {}'.format(pos2))\n",
    "\n",
    "returnCode,pos3 = sim.simxGetObjectPosition(clientID,MTB_joint3,-1,sim.simx_opmode_blocking)\n",
    "print('La posicion asignada la articulacion3 es: {}'.format(pos3))"
   ]
  },
  {
   "cell_type": "code",
   "execution_count": 264,
   "metadata": {},
   "outputs": [
    {
     "name": "stdout",
     "output_type": "stream",
     "text": [
      "[-3.141592502593994, 2.9598939477182284e-07, 1.3089874982833862]\n",
      "[-0.0, 0.0, -0.0]\n",
      "[-9.10007713628147e-08, -3.487333515295177e-07, -0.2617989480495453]\n",
      "[-3.141592502593994, 3.359803599778388e-07, 1.3089900016784668]\n"
     ]
    }
   ],
   "source": [
    "ret, orientacionEF = sim.simxGetObjectOrientation(clientID,dummy,-1,sim.simx_opmode_blocking)\n",
    "print(orientacionEF)##la orientacion en grados del dummy\n",
    "\n",
    "ret, orientacionj1 = sim.simxGetObjectOrientation(clientID,MTB_joint1,-1,sim.simx_opmode_blocking)\n",
    "print(orientacionj1)##la orientacion en grados del joint1\n",
    "\n",
    "ret, orientacionj2 = sim.simxGetObjectOrientation(clientID,MTB_joint2,-1,sim.simx_opmode_blocking)\n",
    "print(orientacionj2)##la orientacion en grados del joint2\n",
    "\n",
    "ret, orientacionj3 = sim.simxGetObjectOrientation(clientID,MTB_joint3,-1,sim.simx_opmode_blocking)\n",
    "print(orientacionj3)##la orientacion en grados del joint3"
   ]
  },
  {
   "cell_type": "markdown",
   "metadata": {},
   "source": [
    "MOVER EL ROBOT"
   ]
  },
  {
   "cell_type": "code",
   "execution_count": 265,
   "metadata": {},
   "outputs": [
    {
     "name": "stdout",
     "output_type": "stream",
     "text": [
      "<class 'float'>\n",
      "1\n"
     ]
    }
   ],
   "source": [
    "x = input('digite la posicion x del balon')\n",
    "y = input('digite la posicion y del balon')\n",
    "\n",
    "x1 = float(x)\n",
    "y1 = float(y)\n",
    "\n",
    "\n",
    "print(type(x1))\n",
    "#y = input('digite la posicion y del balon')\n",
    "#z = input('digite la posicion z del balon')\n",
    "\n",
    "ret,Sphere = sim.simxGetObjectHandle(clientID,'Sphere',sim.simx_opmode_blocking)\n",
    "\n",
    "returnCode = sim.simxSetObjectPosition(clientID,Sphere,-1,(x1,y1),sim.simx_opmode_oneshot)\n",
    "print(returnCode)"
   ]
  },
  {
   "cell_type": "code",
   "execution_count": 266,
   "metadata": {},
   "outputs": [
    {
     "name": "stdout",
     "output_type": "stream",
     "text": [
      "1\n",
      "1\n",
      "1\n"
     ]
    }
   ],
   "source": [
    "q1 = int(input(\"digite la posicion del joint1 en grados\"))\n",
    "q2 = int(input(\"digite la posicion del joint2 en grados\"))\n",
    "t1 = float(input(\"digite la posicion del joint3 en metros\"))\n",
    "\n",
    "q1 = q1*(np.pi/180)\n",
    "\n",
    "returnCode = sim.simxSetJointTargetPosition(clientID,MTB_joint1,q1,sim.simx_opmode_oneshot) ## Oneshot quiere decir 1 movimiento, q1 es los grados que vamos a mover a joint1\n",
    "print(returnCode)\n",
    "\n",
    "q2 = q2*(np.pi/180)\n",
    "\n",
    "returnCode = sim.simxSetJointTargetPosition(clientID,MTB_joint2,q2,sim.simx_opmode_oneshot) ## Oneshot quiere decir 1 movimiento, q2 es los grados que vamos a mover a joint2\n",
    "print(returnCode)\n",
    "\n",
    "returnCode = sim.simxSetJointTargetPosition(clientID,MTB_joint3,t1,sim.simx_opmode_oneshot) ## Oneshot quiere decir 1 movimiento, q2 es los grados que vamos a mover a joint2\n",
    "print(returnCode)\n"
   ]
  }
 ],
 "metadata": {
  "kernelspec": {
   "display_name": "Python 3.10.8 64-bit (windows store)",
   "language": "python",
   "name": "python3"
  },
  "language_info": {
   "codemirror_mode": {
    "name": "ipython",
    "version": 3
   },
   "file_extension": ".py",
   "mimetype": "text/x-python",
   "name": "python",
   "nbconvert_exporter": "python",
   "pygments_lexer": "ipython3",
   "version": "3.10.8"
  },
  "orig_nbformat": 4,
  "vscode": {
   "interpreter": {
    "hash": "3b7e9cb8e453d6cda0fe8c8dd13f891a1f09162f0e7c66ffeae7751a7aecf00d"
   }
  }
 },
 "nbformat": 4,
 "nbformat_minor": 2
}
